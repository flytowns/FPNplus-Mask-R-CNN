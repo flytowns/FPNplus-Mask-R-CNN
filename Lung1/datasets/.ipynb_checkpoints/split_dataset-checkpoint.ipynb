{
 "cells": [
  {
   "cell_type": "code",
   "execution_count": 1,
   "metadata": {},
   "outputs": [],
   "source": [
    "import os\n",
    "import shutil\n",
    "import random\n",
    "import glob"
   ]
  },
  {
   "cell_type": "code",
   "execution_count": 2,
   "metadata": {},
   "outputs": [
    {
     "name": "stdout",
     "output_type": "stream",
     "text": [
      "['10548316', 'BA3RGWI0']\n",
      "577\n",
      "images/10548316/0096_i.tif\n"
     ]
    }
   ],
   "source": [
    "# add samples\n",
    "samples = []\n",
    "folders = os.listdir('images')\n",
    "print(folders)\n",
    "\n",
    "for f in folders:\n",
    "    fpath = os.path.join('images',f)\n",
    "    samples += glob.iglob(os.path.join(fpath,'*.tif'))\n",
    "    \n",
    "print(len(samples))\n",
    "print(samples[0])"
   ]
  },
  {
   "cell_type": "code",
   "execution_count": 3,
   "metadata": {},
   "outputs": [],
   "source": [
    "# break the order\n",
    "random.shuffle(samples)"
   ]
  },
  {
   "cell_type": "code",
   "execution_count": 4,
   "metadata": {
    "scrolled": true
   },
   "outputs": [
    {
     "name": "stdout",
     "output_type": "stream",
     "text": [
      "number of training samples 520\n",
      "number of validation samples 57\n"
     ]
    }
   ],
   "source": [
    "# split dataset train:val = 9:1\n",
    "sample_num = len(samples)\n",
    "train_num = int(sample_num*0.9) +1 \n",
    "train_list = samples[0:train_num]\n",
    "valid_list = samples[train_num:]\n",
    "print(\"number of training samples %d\" % len(train_list))\n",
    "print(\"number of validation samples %d\" % len(valid_list))"
   ]
  },
  {
   "cell_type": "code",
   "execution_count": 22,
   "metadata": {},
   "outputs": [
    {
     "name": "stdout",
     "output_type": "stream",
     "text": [
      "lung/train/images/10548316_0236_i.tif\n"
     ]
    }
   ],
   "source": [
    "# copy data to the specific folder\n",
    "for im_path in train_list[:1]:\n",
    "    \n",
    "    im_folder = im_path.split('/')[1]\n",
    "    im_name = im_path.split('/')[2]\n",
    "\n",
    "    im_dst = os.path.join('lung/train/images','%s_%s'%(im_folder,im_name))\n",
    "    shutil.copy(im_path,im_dst)\n",
    "    shutil.copy(im_path.replace('images','annotations').replace('tif','json'),\n",
    "               im_dst.replace('images','annotations').replace('tif','json'))\n",
    "    \n",
    "\n",
    "\n",
    "\n"
   ]
  },
  {
   "cell_type": "code",
   "execution_count": null,
   "metadata": {},
   "outputs": [],
   "source": []
  }
 ],
 "metadata": {
  "kernelspec": {
   "display_name": "Python 3",
   "language": "python",
   "name": "python3"
  },
  "language_info": {
   "codemirror_mode": {
    "name": "ipython",
    "version": 3
   },
   "file_extension": ".py",
   "mimetype": "text/x-python",
   "name": "python",
   "nbconvert_exporter": "python",
   "pygments_lexer": "ipython3",
   "version": "3.6.10"
  }
 },
 "nbformat": 4,
 "nbformat_minor": 4
}
